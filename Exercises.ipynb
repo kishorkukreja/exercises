{
 "cells": [
  {
   "cell_type": "code",
   "execution_count": 1,
   "metadata": {
    "collapsed": true
   },
   "outputs": [],
   "source": [
    "import json"
   ]
  },
  {
   "cell_type": "code",
   "execution_count": 2,
   "metadata": {
    "collapsed": true
   },
   "outputs": [],
   "source": [
    "s='[{\"name\":\"eggs\",\"price\":1},{\"name\":\"coffee\",\"price\":9.99},{\"name\":\"rice\",\"price\":4.04}]'"
   ]
  },
  {
   "cell_type": "code",
   "execution_count": 72,
   "metadata": {
    "collapsed": false
   },
   "outputs": [
    {
     "name": "stdout",
     "output_type": "stream",
     "text": [
      "[{'name': 'eggs', 'price': 1}, {'name': 'rice', 'price': 4.04}, {'name': 'coffe', 'price': 9.99}, {'name': 'coffee', 'price': 9.99}]\n"
     ]
    }
   ],
   "source": [
    "s='[{\"name\":\"eggs\",\"price\":1},{\"name\":\"coffee\",\"price\":9.99},{\"name\":\"coffe\",\"price\":9.99},{\"name\":\"rice\",\"price\":4.04}]'\n",
    "jdata = json.loads(s)\n",
    "sorted_list = sorted(jdata, key=lambda k: (int(k['price']),k[\"name\"]))\n",
    "print(sorted_list)"
   ]
  },
  {
   "cell_type": "code",
   "execution_count": 46,
   "metadata": {
    "collapsed": false
   },
   "outputs": [
    {
     "name": "stdout",
     "output_type": "stream",
     "text": [
      "[{'name': 'eggs', 'price': 1}, {'name': 'rice', 'price': 4.04}, {'name': 'coffee', 'price': 9.99}]\n",
      "[{'name': 'coffee', 'price': 9.99}, {'name': 'eggs', 'price': 1}, {'name': 'rice', 'price': 4.04}]\n",
      "[{'name': 'eggs', 'price': 1}, {'name': 'rice', 'price': 4.04}, {'name': 'coffee', 'price': 9.99}]\n"
     ]
    }
   ],
   "source": [
    "sorted_list = sorted(jdata, key=lambda k: (int(k['price'])))\n",
    "print(sorted_list)\n",
    "\n",
    "sorted_list_2 = sorted(sorted_list, key=lambda k: ((k['name'])))\n",
    "print(sorted_list_2) \n",
    "\n",
    "\n",
    "sorted_list = sorted(jdata, key=lambda k: (int(k['price']),k[\"name\"]))\n",
    "print(sorted_list)"
   ]
  },
  {
   "cell_type": "code",
   "execution_count": 38,
   "metadata": {
    "collapsed": false
   },
   "outputs": [
    {
     "ename": "SyntaxError",
     "evalue": "invalid syntax (<ipython-input-38-d05b0de37651>, line 7)",
     "output_type": "error",
     "traceback": [
      "\u001b[0;36m  File \u001b[0;32m\"<ipython-input-38-d05b0de37651>\"\u001b[0;36m, line \u001b[0;32m7\u001b[0m\n\u001b[0;31m    sdata = [OrderedDict(sorted(item.iteritems(), key=lambda (k, v): sort_order.index(k))) for item in jdata]\u001b[0m\n\u001b[0m                                                             ^\u001b[0m\n\u001b[0;31mSyntaxError\u001b[0m\u001b[0;31m:\u001b[0m invalid syntax\n"
     ]
    }
   ],
   "source": [
    "from collections import OrderedDict\n",
    "import json\n",
    "\n",
    "s='[{\"name\":\"eggs\",\"price\":1},{\"name\":\"coffee\",\"price\":9.99},{\"name\":\"rice\",\"price\":4.04}]'\n",
    "jdata = json.loads(s)\n",
    "sort_order = ['price', 'name']\n",
    "sdata = [OrderedDict(sorted(item.iteritems(), key=lambda(k, v): sort_order.index(k))) for item in jdata]\n",
    "print(sdata)"
   ]
  },
  {
   "cell_type": "code",
   "execution_count": 32,
   "metadata": {
    "collapsed": false
   },
   "outputs": [
    {
     "name": "stdout",
     "output_type": "stream",
     "text": [
      "[{\"name\":\"eggs\",\"price\":1},{\"name\":\"coffee\",\"price\":9.99},{\"name\":\"rice\",\"price\":4.04}]\n"
     ]
    }
   ],
   "source": [
    "from collections import OrderedDict\n",
    "import json\n",
    "\n",
    "s='[{\"name\":\"eggs\",\"price\":1},{\"name\":\"coffee\",\"price\":9.99},{\"name\":\"rice\",\"price\":4.04}]'\n",
    "jdata = json.loads(s)\n",
    "\n",
    "def make_custom_sort(orders):\n",
    "    orders = [{k: -i for (i, k) in enumerate(reversed(order), 1)} for order in orders]\n",
    "    def process(stuff):\n",
    "        if isinstance(stuff, dict):\n",
    "            l = [(k, process(v)) for (k, v) in stuff.items()]\n",
    "            keys = set(stuff)\n",
    "            for order in orders:\n",
    "                if keys.issuperset(order):\n",
    "                    return OrderedDict(sorted(l, key=lambda x: order.get(x[0], 0)))\n",
    "            return OrderedDict(sorted(l))\n",
    "        if isinstance(stuff, list):\n",
    "            return [process(x) for x in stuff]\n",
    "        return stuff\n",
    "    return process\n",
    "\n",
    "custom_sort = make_custom_sort([ 'name', 'price' ])\n",
    "result = custom_sort(s)\n",
    "print(result)"
   ]
  },
  {
   "cell_type": "code",
   "execution_count": 25,
   "metadata": {
    "collapsed": true
   },
   "outputs": [],
   "source": [
    "custom_sort = make_custom_sort([ ['price', 'name'] ])"
   ]
  },
  {
   "cell_type": "code",
   "execution_count": 29,
   "metadata": {
    "collapsed": false
   },
   "outputs": [
    {
     "name": "stdout",
     "output_type": "stream",
     "text": [
      "[{\"name\":\"eggs\",\"price\":1},{\"name\":\"coffee\",\"price\":9.99},{\"name\":\"rice\",\"price\":4.04}]\n"
     ]
    }
   ],
   "source": [
    "result = custom_sort(s)\n",
    "print(result)"
   ]
  },
  {
   "cell_type": "code",
   "execution_count": 28,
   "metadata": {
    "collapsed": false
   },
   "outputs": [
    {
     "name": "stdout",
     "output_type": "stream",
     "text": [
      "\"[{\\\"name\\\":\\\"eggs\\\",\\\"price\\\":1},{\\\"name\\\":\\\"coffee\\\",\\\"price\\\":9.99},{\\\"name\\\":\\\"rice\\\",\\\"price\\\":4.04}]\"\n"
     ]
    }
   ],
   "source": [
    "print(json.dumps(result))"
   ]
  },
  {
   "cell_type": "code",
   "execution_count": 89,
   "metadata": {
    "collapsed": false
   },
   "outputs": [
    {
     "ename": "AttributeError",
     "evalue": "'xml.etree.ElementTree.Element' object has no attribute 'getroot'",
     "output_type": "error",
     "traceback": [
      "\u001b[0;31m---------------------------------------------------------------------------\u001b[0m",
      "\u001b[0;31mAttributeError\u001b[0m                            Traceback (most recent call last)",
      "\u001b[0;32m<ipython-input-89-53094871e963>\u001b[0m in \u001b[0;36m<module>\u001b[0;34m()\u001b[0m\n\u001b[1;32m     12\u001b[0m \u001b[0mxml\u001b[0m \u001b[1;33m=\u001b[0m \u001b[0mET\u001b[0m\u001b[1;33m.\u001b[0m\u001b[0mfromstring\u001b[0m\u001b[1;33m(\u001b[0m\u001b[0mxml\u001b[0m\u001b[1;33m)\u001b[0m\u001b[1;33m\u001b[0m\u001b[0m\n\u001b[1;32m     13\u001b[0m \u001b[1;33m\u001b[0m\u001b[0m\n\u001b[0;32m---> 14\u001b[0;31m \u001b[0mroot\u001b[0m\u001b[1;33m=\u001b[0m\u001b[0mxml\u001b[0m\u001b[1;33m.\u001b[0m\u001b[0mgetroot\u001b[0m\u001b[1;33m(\u001b[0m\u001b[1;33m)\u001b[0m\u001b[1;33m\u001b[0m\u001b[0m\n\u001b[0m\u001b[1;32m     15\u001b[0m \u001b[0mprint\u001b[0m\u001b[1;33m(\u001b[0m\u001b[0mroot\u001b[0m\u001b[1;33m.\u001b[0m\u001b[0mattrib\u001b[0m\u001b[1;33m)\u001b[0m\u001b[1;33m\u001b[0m\u001b[0m\n\u001b[1;32m     16\u001b[0m \u001b[1;33m\u001b[0m\u001b[0m\n",
      "\u001b[0;31mAttributeError\u001b[0m: 'xml.etree.ElementTree.Element' object has no attribute 'getroot'"
     ]
    }
   ],
   "source": [
    "xml = \"\"\"<?xml version=\"1.0\" encoding=\"UTF-8\"?>\n",
    "<log>\n",
    "    <entry id=\"1\">\n",
    "        <message>Application started</message>\n",
    "    </entry>\n",
    "    <entry id=\"2\">\n",
    "        <message>Application ended</message>\n",
    "    </entry>\n",
    "</log>\"\"\"\n",
    "\n",
    "import xml.etree.ElementTree as ET\n",
    "xml = ET.fromstring(xml)\n",
    "\n",
    "root=xml.getroot()\n",
    "print(root.attrib)\n",
    "        "
   ]
  },
  {
   "cell_type": "code",
   "execution_count": null,
   "metadata": {
    "collapsed": true
   },
   "outputs": [],
   "source": [
    "for table in xml.getiterator('entry'):\n",
    "    for child in table:\n",
    "        if child.text=='Application ended':\n",
    "            print(table.attrib.get('id'))\n",
    "            results = list(map(int, table.attrib.get('id')))\n",
    "            print(results)"
   ]
  }
 ],
 "metadata": {
  "anaconda-cloud": {},
  "kernelspec": {
   "display_name": "Python [default]",
   "language": "python",
   "name": "python3"
  },
  "language_info": {
   "codemirror_mode": {
    "name": "ipython",
    "version": 3
   },
   "file_extension": ".py",
   "mimetype": "text/x-python",
   "name": "python",
   "nbconvert_exporter": "python",
   "pygments_lexer": "ipython3",
   "version": "3.5.2"
  }
 },
 "nbformat": 4,
 "nbformat_minor": 1
}
